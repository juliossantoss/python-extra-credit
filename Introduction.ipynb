{
 "cells": [
  {
   "cell_type": "markdown",
   "id": "5b74a93a",
   "metadata": {},
   "source": [
    "# MoISSI Python Workshop\n",
    "# Allan Hancock College\n",
    "October 6, 2023 "
   ]
  },
  {
   "cell_type": "code",
   "execution_count": 2,
   "id": "cdf1ba52",
   "metadata": {},
   "outputs": [
    {
     "data": {
      "text/plain": [
       "10"
      ]
     },
     "execution_count": 2,
     "metadata": {},
     "output_type": "execute_result"
    }
   ],
   "source": [
    "3+7"
   ]
  },
  {
   "cell_type": "code",
   "execution_count": 8,
   "id": "6d90495e",
   "metadata": {},
   "outputs": [],
   "source": [
    "deltaH = -541.5 #KJ/mole\n",
    "deltaS = 10.4 #KJ/(mole k)\n",
    "temp = 298 #Kelvin\n",
    "DeltaG = deltaH - temp*deltaS"
   ]
  },
  {
   "cell_type": "code",
   "execution_count": 9,
   "id": "33c26139",
   "metadata": {},
   "outputs": [
    {
     "name": "stdout",
     "output_type": "stream",
     "text": [
      "-3640.7000000000003\n"
     ]
    }
   ],
   "source": [
    "print(DeltaG)"
   ]
  },
  {
   "cell_type": "code",
   "execution_count": 10,
   "id": "55a0bb81",
   "metadata": {},
   "outputs": [
    {
     "name": "stdout",
     "output_type": "stream",
     "text": [
      "-3640.7000000000003 KJ mole\n"
     ]
    }
   ],
   "source": [
    "print(DeltaG, 'KJ mole')"
   ]
  },
  {
   "cell_type": "code",
   "execution_count": 14,
   "id": "1947e466",
   "metadata": {},
   "outputs": [
    {
     "name": "stdout",
     "output_type": "stream",
     "text": [
      "the value of free energy is -3640.700 in KJ/mole.\n"
     ]
    }
   ],
   "source": [
    "print(F'the value of free energy is {DeltaG:.3f} in KJ/mole.')"
   ]
  },
  {
   "cell_type": "code",
   "execution_count": 17,
   "id": "229f65bf",
   "metadata": {},
   "outputs": [
    {
     "name": "stdout",
     "output_type": "stream",
     "text": [
      "-3640.7000000000003\n"
     ]
    }
   ],
   "source": [
    "DeltaG*1000\n",
    "print(DeltaG)"
   ]
  },
  {
   "cell_type": "code",
   "execution_count": 21,
   "id": "d549eaef",
   "metadata": {},
   "outputs": [
    {
     "name": "stdout",
     "output_type": "stream",
     "text": [
      "-3640.7000000000003\n",
      "-3640700.0000000005\n"
     ]
    }
   ],
   "source": [
    "DeltaG_joules = DeltaG*1000\n",
    "print(DeltaG)\n",
    "print(DeltaG_joules)"
   ]
  },
  {
   "cell_type": "markdown",
   "id": "fd466d5f",
   "metadata": {},
   "source": [
    "## Data Types\n",
    "wheter your data is a number or a word and how it is stored."
   ]
  },
  {
   "cell_type": "code",
   "execution_count": 23,
   "id": "16df9106",
   "metadata": {},
   "outputs": [
    {
     "data": {
      "text/plain": [
       "float"
      ]
     },
     "execution_count": 23,
     "metadata": {},
     "output_type": "execute_result"
    }
   ],
   "source": [
    "type(DeltaG)"
   ]
  },
  {
   "cell_type": "code",
   "execution_count": 24,
   "id": "1c6d0759",
   "metadata": {},
   "outputs": [
    {
     "data": {
      "text/plain": [
       "int"
      ]
     },
     "execution_count": 24,
     "metadata": {},
     "output_type": "execute_result"
    }
   ],
   "source": [
    "type(temp)"
   ]
  },
  {
   "cell_type": "code",
   "execution_count": 25,
   "id": "d09a19e6",
   "metadata": {},
   "outputs": [
    {
     "name": "stdout",
     "output_type": "stream",
     "text": [
      "298\n"
     ]
    }
   ],
   "source": [
    "print(temp)"
   ]
  },
  {
   "cell_type": "code",
   "execution_count": 26,
   "id": "ac909df0",
   "metadata": {},
   "outputs": [],
   "source": [
    "# recasting - changing the data type of a variable\n",
    "temp = float(temp)"
   ]
  },
  {
   "cell_type": "code",
   "execution_count": 27,
   "id": "f78d660b",
   "metadata": {},
   "outputs": [
    {
     "name": "stdout",
     "output_type": "stream",
     "text": [
      "298.0\n"
     ]
    }
   ],
   "source": [
    "print(temp)"
   ]
  },
  {
   "cell_type": "code",
   "execution_count": 28,
   "id": "1db59bea",
   "metadata": {},
   "outputs": [
    {
     "data": {
      "text/plain": [
       "float"
      ]
     },
     "execution_count": 28,
     "metadata": {},
     "output_type": "execute_result"
    }
   ],
   "source": [
    "type(temp)"
   ]
  },
  {
   "cell_type": "markdown",
   "id": "089487be",
   "metadata": {},
   "source": [
    "find the force of a 145 gram object where the acceleration is the acceleration due to gravity 9.8 m/s^2. Write a neatly formatted print statement with your answer, including units."
   ]
  },
  {
   "cell_type": "code",
   "execution_count": 32,
   "id": "3d440651",
   "metadata": {},
   "outputs": [
    {
     "name": "stdout",
     "output_type": "stream",
     "text": [
      "the force is 1.421. N\n"
     ]
    }
   ],
   "source": [
    "mass = 145/1000 #killograms\n",
    "accel = 9.8 #m/s^2\n",
    "force = mass*accel\n",
    "print(F'the force is {force}. N')"
   ]
  },
  {
   "cell_type": "markdown",
   "id": "7eb3392c",
   "metadata": {},
   "source": [
    "## LISTS\n",
    "A LIST is a python data type where a variable has more than one value."
   ]
  },
  {
   "cell_type": "code",
   "execution_count": 33,
   "id": "3c1fd786",
   "metadata": {},
   "outputs": [],
   "source": [
    "energy_kcal = [-13.4, -2.7, 5.4, 42.1]\n",
    "energy_length = len(energy_kcal)"
   ]
  },
  {
   "cell_type": "code",
   "execution_count": 34,
   "id": "cd5e82a0",
   "metadata": {},
   "outputs": [
    {
     "name": "stdout",
     "output_type": "stream",
     "text": [
      "4\n"
     ]
    }
   ],
   "source": [
    "print(energy_length)"
   ]
  },
  {
   "cell_type": "code",
   "execution_count": 35,
   "id": "7a333976",
   "metadata": {},
   "outputs": [
    {
     "data": {
      "text/plain": [
       "int"
      ]
     },
     "execution_count": 35,
     "metadata": {},
     "output_type": "execute_result"
    }
   ],
   "source": [
    "type(energy_length)"
   ]
  },
  {
   "cell_type": "code",
   "execution_count": 36,
   "id": "bdf8b7bc",
   "metadata": {},
   "outputs": [
    {
     "name": "stdout",
     "output_type": "stream",
     "text": [
      "[-13.4, -2.7, 5.4, 42.1]\n"
     ]
    }
   ],
   "source": [
    "print(energy_kcal)"
   ]
  },
  {
   "cell_type": "code",
   "execution_count": 37,
   "id": "fcb03ffd",
   "metadata": {},
   "outputs": [
    {
     "name": "stdout",
     "output_type": "stream",
     "text": [
      "-13.4\n"
     ]
    }
   ],
   "source": [
    "print(energy_kcal[0])"
   ]
  },
  {
   "cell_type": "code",
   "execution_count": 38,
   "id": "87550c65",
   "metadata": {},
   "outputs": [
    {
     "data": {
      "text/plain": [
       "-2.7"
      ]
     },
     "execution_count": 38,
     "metadata": {},
     "output_type": "execute_result"
    }
   ],
   "source": [
    "energy_kcal[1]"
   ]
  },
  {
   "cell_type": "code",
   "execution_count": 39,
   "id": "f0c47518",
   "metadata": {},
   "outputs": [],
   "source": [
    "energy_KJ = energy_kcal[0]*4.184"
   ]
  },
  {
   "cell_type": "code",
   "execution_count": 40,
   "id": "78fa4b63",
   "metadata": {},
   "outputs": [
    {
     "name": "stdout",
     "output_type": "stream",
     "text": [
      "-56.0656\n"
     ]
    }
   ],
   "source": [
    "print(energy_KJ)"
   ]
  },
  {
   "cell_type": "code",
   "execution_count": 42,
   "id": "b3210453",
   "metadata": {},
   "outputs": [
    {
     "name": "stdout",
     "output_type": "stream",
     "text": [
      "[-13.4, -2.7]\n"
     ]
    }
   ],
   "source": [
    "# taking a slice - making a new list that is a subject of another list\n",
    "# new_list = old_list[start:end]\n",
    "short_list = energy_kcal [0:2]\n",
    "print(short_list)"
   ]
  },
  {
   "cell_type": "code",
   "execution_count": 46,
   "id": "360a4920",
   "metadata": {},
   "outputs": [
    {
     "name": "stdout",
     "output_type": "stream",
     "text": [
      "slice1 is [-2.7, 5.4, 42.1]\n"
     ]
    }
   ],
   "source": [
    "slice1 = energy_kcal[1:]\n",
    "slice2 = energy_kcal[:3]\n",
    "print(F'slice1 is {slice1}')"
   ]
  },
  {
   "cell_type": "code",
   "execution_count": 47,
   "id": "7a0fa50d",
   "metadata": {},
   "outputs": [
    {
     "name": "stdout",
     "output_type": "stream",
     "text": [
      "slice2 is [-13.4, -2.7, 5.4]\n"
     ]
    }
   ],
   "source": [
    "print(F'slice2 is {slice2}')"
   ]
  },
  {
   "cell_type": "code",
   "execution_count": 49,
   "id": "660e0e78",
   "metadata": {},
   "outputs": [
    {
     "name": "stdout",
     "output_type": "stream",
     "text": [
      "-56.0656\n",
      "-11.296800000000001\n",
      "22.593600000000002\n",
      "176.1464\n"
     ]
    }
   ],
   "source": [
    "# A for loop lets us do something to every element in a list\n",
    "# for variable in list_name:\n",
    "#      do things with variable\n",
    "\n",
    "for number in energy_kcal:\n",
    "    KJ = number*4.184\n",
    "    print(KJ)"
   ]
  },
  {
   "cell_type": "code",
   "execution_count": 50,
   "id": "14997a96",
   "metadata": {},
   "outputs": [
    {
     "name": "stdout",
     "output_type": "stream",
     "text": [
      "176.1464\n"
     ]
    }
   ],
   "source": [
    "print(KJ)"
   ]
  },
  {
   "cell_type": "code",
   "execution_count": 56,
   "id": "b70cc211",
   "metadata": {},
   "outputs": [
    {
     "name": "stdout",
     "output_type": "stream",
     "text": [
      "[-56.0656]\n",
      "[-56.0656, -11.296800000000001]\n",
      "[-56.0656, -11.296800000000001, 22.593600000000002]\n",
      "[-56.0656, -11.296800000000001, 22.593600000000002, 176.1464]\n"
     ]
    }
   ],
   "source": [
    "energy_KJ = []\n",
    "\n",
    "for number in energy_kcal:\n",
    "    KJ = number*4.184\n",
    "    energy_KJ.append(KJ)\n",
    "    \n",
    "    print(energy_KJ)"
   ]
  },
  {
   "cell_type": "code",
   "execution_count": 57,
   "id": "c83e8eaa",
   "metadata": {},
   "outputs": [
    {
     "name": "stdout",
     "output_type": "stream",
     "text": [
      "[-13.4, -2.7, 5.4, 42.1]\n"
     ]
    }
   ],
   "source": [
    "print(energy_kcal)"
   ]
  },
  {
   "cell_type": "code",
   "execution_count": 58,
   "id": "83bdddea",
   "metadata": {},
   "outputs": [
    {
     "name": "stdout",
     "output_type": "stream",
     "text": [
      "[-13.4, -2.7]\n"
     ]
    }
   ],
   "source": [
    "negative_numbers = []\n",
    "for number in energy_kcal:\n",
    "    if number<0:\n",
    "        negative_numbers.append(number)\n",
    "        \n",
    "print(negative_numbers)"
   ]
  },
  {
   "cell_type": "code",
   "execution_count": null,
   "id": "ba665a45",
   "metadata": {},
   "outputs": [],
   "source": []
  }
 ],
 "metadata": {
  "kernelspec": {
   "display_name": "Python 3 (ipykernel)",
   "language": "python",
   "name": "python3"
  },
  "language_info": {
   "codemirror_mode": {
    "name": "ipython",
    "version": 3
   },
   "file_extension": ".py",
   "mimetype": "text/x-python",
   "name": "python",
   "nbconvert_exporter": "python",
   "pygments_lexer": "ipython3",
   "version": "3.9.7"
  }
 },
 "nbformat": 4,
 "nbformat_minor": 5
}
